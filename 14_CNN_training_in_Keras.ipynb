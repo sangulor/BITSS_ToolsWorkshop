{
  "nbformat": 4,
  "nbformat_minor": 0,
  "metadata": {
    "colab": {
      "name": "14-CNN_training_in_Keras.ipynb",
      "version": "0.3.2",
      "provenance": [],
      "include_colab_link": true
    }
  },
  "cells": [
    {
      "cell_type": "markdown",
      "metadata": {
        "id": "view-in-github",
        "colab_type": "text"
      },
      "source": [
        "[View in Colaboratory](https://colab.research.google.com/github/sangulor/BITSS_ToolsWorkshop/blob/master/14_CNN_training_in_Keras.ipynb)"
      ]
    },
    {
      "metadata": {
        "id": "yIcZavuIgJ3q",
        "colab_type": "text"
      },
      "cell_type": "markdown",
      "source": [
        "# 14 - CNN for image classification en Keras\n",
        "\n",
        "by [Fabio A. González](http://dis.unal.edu.co/~fgonza/), Universidad Nacional de Colombia\n",
        "\n",
        "version 1.0, June 2018\n",
        "\n",
        "## Part of the class [Applied Deep Learning](https://github.com/albahnsen/AppliedDeepLearningClass)\n",
        "\n",
        "\n",
        "This notebook is licensed under a [Creative Commons Attribution-ShareAlike 3.0 Unported License](http://creativecommons.org/licenses/by-sa/3.0/deed.en_US). \n",
        "\n",
        "This tutorial is based on the Blog post from Francois Chollet []\"Building powerful image classification models using very little data\"](https://blog.keras.io/building-powerful-image-classification-models-using-very-little-data.html)"
      ]
    },
    {
      "metadata": {
        "id": "UzcNoDvqht9D",
        "colab_type": "text"
      },
      "cell_type": "markdown",
      "source": [
        "## Download data\n",
        "\n",
        "This is a dataset of images of cats and dogs that was extacted from this [Kaggle competition](https://www.kaggle.com/c/dogs-vs-cats/data). "
      ]
    },
    {
      "metadata": {
        "id": "WZeFXYrRhr-M",
        "colab_type": "code",
        "colab": {
          "base_uri": "https://localhost:8080/",
          "height": 17
        },
        "outputId": "c00b0f15-ba6b-4b41-9159-c44859be3976"
      },
      "cell_type": "code",
      "source": [
        "# Install the PyDrive wrapper & import libraries.\n",
        "# This only needs to be done once per notebook.\n",
        "!pip install -U -q PyDrive\n",
        "from pydrive.auth import GoogleAuth\n",
        "from pydrive.drive import GoogleDrive\n",
        "from google.colab import auth\n",
        "from oauth2client.client import GoogleCredentials\n",
        "\n",
        "# Authenticate and create the PyDrive client.\n",
        "# This only needs to be done once per notebook.\n",
        "auth.authenticate_user()\n",
        "gauth = GoogleAuth()\n",
        "gauth.credentials = GoogleCredentials.get_application_default()\n",
        "drive = GoogleDrive(gauth)\n",
        "\n",
        "# Download a file based on its file ID.\n",
        "#\n",
        "# A file ID looks like: laggVyWshwcyP6kEI-y_W3P8D26sz\n",
        "file_id = '1Ys08yalsbM29fvvPhyDxv-SV7TBg3VxK'\n",
        "downloaded = drive.CreateFile({'id': file_id})\n",
        "downloaded.GetContentFile(downloaded['title'])"
      ],
      "execution_count": 1,
      "outputs": []
    },
    {
      "metadata": {
        "id": "y4dk77hIh3QC",
        "colab_type": "text"
      },
      "cell_type": "markdown",
      "source": [
        "After downloading the file, we uncompress it*"
      ]
    },
    {
      "metadata": {
        "id": "yLLEuuP5isnF",
        "colab_type": "code",
        "colab": {
          "base_uri": "https://localhost:8080/",
          "height": 37
        },
        "outputId": "cac3ea26-e387-4ff1-a6b4-7234e299286a"
      },
      "cell_type": "code",
      "source": [
        "!unzip cnn_data.zip > /dev/null\n"
      ],
      "execution_count": 3,
      "outputs": []
    },
    {
      "metadata": {
        "id": "iEyhyzE4ix0t",
        "colab_type": "text"
      },
      "cell_type": "markdown",
      "source": [
        "This creates the folder data:"
      ]
    },
    {
      "metadata": {
        "id": "x3SKnWpKi8pl",
        "colab_type": "code",
        "colab": {
          "base_uri": "https://localhost:8080/",
          "height": 34
        },
        "outputId": "24262ce8-aea5-486b-e3ab-fec136536dd1"
      },
      "cell_type": "code",
      "source": [
        "!ls data\n"
      ],
      "execution_count": 5,
      "outputs": [
        {
          "output_type": "stream",
          "text": [
            "train  validation\r\n"
          ],
          "name": "stdout"
        }
      ]
    },
    {
      "metadata": {
        "id": "5j-t0yL4jl6a",
        "colab_type": "text"
      },
      "cell_type": "markdown",
      "source": [
        "## Data augmentation"
      ]
    },
    {
      "metadata": {
        "id": "-qHcYWTxi9iv",
        "colab_type": "code",
        "colab": {}
      },
      "cell_type": "code",
      "source": [
        "#"
      ],
      "execution_count": 0,
      "outputs": []
    }
  ]
}